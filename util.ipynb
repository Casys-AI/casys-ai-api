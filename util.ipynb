{
 "cells": [
  {
   "cell_type": "code",
   "execution_count": 3,
   "id": "initial_id",
   "metadata": {
    "collapsed": true,
    "ExecuteTime": {
     "end_time": "2024-07-26T07:09:40.158715500Z",
     "start_time": "2024-07-26T07:09:40.081572Z"
    }
   },
   "outputs": [
    {
     "name": "stdout",
     "output_type": "stream",
     "text": [
      "Tous les fichiers ont été extraits et modifiés avec succès.\n"
     ]
    }
   ],
   "source": [
    "import os\n",
    "import shutil\n",
    "\n",
    "# Chemin de départ\n",
    "source_directory = r\"C:\\Users\\erpes\\PycharmProjects\\SysML_PLM\"\n",
    "# Chemin de destination\n",
    "destination_directory = r\"C:\\Users\\erpes\\PycharmProjects\\extracted_files\"\n",
    "\n",
    "# Créer le dossier de destination s'il n'existe pas\n",
    "if not os.path.exists(destination_directory):\n",
    "    os.makedirs(destination_directory)\n",
    "\n",
    "# Parcourir tous les dossiers et sous-dossiers\n",
    "for root, dirs, files in os.walk(source_directory):\n",
    "    # Ignorer le dossier venv\n",
    "    if 'venv' in dirs:\n",
    "        dirs.remove('venv')\n",
    "    \n",
    "    for file in files:\n",
    "        # Chemin complet du fichier source\n",
    "        source_file = os.path.join(root, file)\n",
    "        # Chemin complet du fichier destination\n",
    "        destination_file = os.path.join(destination_directory, file)\n",
    "        \n",
    "        # Calculer le chemin relatif\n",
    "        relative_path = os.path.relpath(source_file, source_directory)\n",
    "        \n",
    "        # Lire le contenu du fichier source\n",
    "        with open(source_file, 'r', encoding='utf-8', errors='ignore') as f:\n",
    "            content = f.read()\n",
    "        \n",
    "        # Préfixer le contenu avec le chemin relatif\n",
    "        content_with_path = f\"Path: {relative_path}\\n{content}\"\n",
    "        \n",
    "        # Écrire le contenu modifié dans le fichier de destination\n",
    "        with open(destination_file, 'w', encoding='utf-8') as f:\n",
    "            f.write(content_with_path)\n",
    "\n",
    "print(\"Tous les fichiers ont été extraits et modifiés avec succès.\")\n"
   ]
  },
  {
   "cell_type": "code",
   "execution_count": null,
   "outputs": [],
   "source": [],
   "metadata": {
    "collapsed": false
   },
   "id": "d72486b55a67907"
  }
 ],
 "metadata": {
  "kernelspec": {
   "display_name": "Python 3",
   "language": "python",
   "name": "python3"
  },
  "language_info": {
   "codemirror_mode": {
    "name": "ipython",
    "version": 2
   },
   "file_extension": ".py",
   "mimetype": "text/x-python",
   "name": "python",
   "nbconvert_exporter": "python",
   "pygments_lexer": "ipython2",
   "version": "2.7.6"
  }
 },
 "nbformat": 4,
 "nbformat_minor": 5
}
